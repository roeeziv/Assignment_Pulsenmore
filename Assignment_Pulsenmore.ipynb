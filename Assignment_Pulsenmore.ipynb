{
 "cells": [
  {
   "cell_type": "markdown",
   "id": "465f69bf-3b83-42a2-8ccc-c1b9b4cbd8b1",
   "metadata": {},
   "source": [
    "# Data Loading and Description\n",
    "#### 1. Import libraries.\n",
    "#### 2. Load data from 'factory_test.\n",
    "#### 3. Provide a description of its content."
   ]
  },
  {
   "cell_type": "code",
   "execution_count": 4,
   "id": "b286ab17-1343-4875-893d-c0b4798e611b",
   "metadata": {},
   "outputs": [],
   "source": [
    "import pandas as pd\n",
    "import numpy as np\n",
    "import matplotlib.pyplot as plt\n"
   ]
  },
  {
   "cell_type": "code",
   "execution_count": 49,
   "id": "afd84361",
   "metadata": {},
   "outputs": [
    {
     "name": "stdout",
     "output_type": "stream",
     "text": [
      "<class 'pandas.core.frame.DataFrame'>\n",
      "RangeIndex: 51 entries, 0 to 50\n",
      "Data columns (total 9 columns):\n",
      " #   Column  Non-Null Count  Dtype \n",
      "---  ------  --------------  ----- \n",
      " 0   Y1      51 non-null     int64 \n",
      " 1   X2      51 non-null     object\n",
      " 2   Y2      51 non-null     object\n",
      " 3   X3      51 non-null     object\n",
      " 4   Y3      51 non-null     object\n",
      " 5   X4      51 non-null     object\n",
      " 6   Y4      51 non-null     object\n",
      " 7   X5      51 non-null     object\n",
      " 8   Y5      51 non-null     object\n",
      "dtypes: int64(1), object(8)\n",
      "memory usage: 3.7+ KB\n",
      "None\n"
     ]
    }
   ],
   "source": [
    "# data = pd.read_csv('factory_test_data.csv')\n",
    "data = pd.read_csv('factory_test_data.csv')\n",
    "\n",
    "print(data.info())"
   ]
  },
  {
   "cell_type": "code",
   "execution_count": 50,
   "id": "f22e60dc-03c9-4bf0-bec8-8b67517da2b8",
   "metadata": {},
   "outputs": [
    {
     "data": {
      "text/html": [
       "<div>\n",
       "<style scoped>\n",
       "    .dataframe tbody tr th:only-of-type {\n",
       "        vertical-align: middle;\n",
       "    }\n",
       "\n",
       "    .dataframe tbody tr th {\n",
       "        vertical-align: top;\n",
       "    }\n",
       "\n",
       "    .dataframe thead th {\n",
       "        text-align: right;\n",
       "    }\n",
       "</style>\n",
       "<table border=\"1\" class=\"dataframe\">\n",
       "  <thead>\n",
       "    <tr style=\"text-align: right;\">\n",
       "      <th></th>\n",
       "      <th>Y1</th>\n",
       "      <th>X2</th>\n",
       "      <th>Y2</th>\n",
       "      <th>X3</th>\n",
       "      <th>Y3</th>\n",
       "      <th>X4</th>\n",
       "      <th>Y4</th>\n",
       "      <th>X5</th>\n",
       "      <th>Y5</th>\n",
       "    </tr>\n",
       "  </thead>\n",
       "  <tbody>\n",
       "    <tr>\n",
       "      <th>0</th>\n",
       "      <td>1491</td>\n",
       "      <td>18</td>\n",
       "      <td>16.8</td>\n",
       "      <td>14</td>\n",
       "      <td>13.33</td>\n",
       "      <td>12</td>\n",
       "      <td>11.12</td>\n",
       "      <td>9</td>\n",
       "      <td>8.33</td>\n",
       "    </tr>\n",
       "    <tr>\n",
       "      <th>1</th>\n",
       "      <td>1491</td>\n",
       "      <td>[]</td>\n",
       "      <td>[]</td>\n",
       "      <td>[]</td>\n",
       "      <td>[]</td>\n",
       "      <td>[]</td>\n",
       "      <td>[]</td>\n",
       "      <td>[]</td>\n",
       "      <td>[]</td>\n",
       "    </tr>\n",
       "    <tr>\n",
       "      <th>2</th>\n",
       "      <td>2004</td>\n",
       "      <td>18</td>\n",
       "      <td>17.94</td>\n",
       "      <td>14</td>\n",
       "      <td>13.99</td>\n",
       "      <td>12</td>\n",
       "      <td>11.72</td>\n",
       "      <td>9</td>\n",
       "      <td>8.65</td>\n",
       "    </tr>\n",
       "    <tr>\n",
       "      <th>3</th>\n",
       "      <td>1493</td>\n",
       "      <td>[]</td>\n",
       "      <td>[]</td>\n",
       "      <td>[]</td>\n",
       "      <td>[]</td>\n",
       "      <td>[]</td>\n",
       "      <td>[]</td>\n",
       "      <td>[]</td>\n",
       "      <td>[]</td>\n",
       "    </tr>\n",
       "    <tr>\n",
       "      <th>4</th>\n",
       "      <td>1497</td>\n",
       "      <td>18</td>\n",
       "      <td>18</td>\n",
       "      <td>14</td>\n",
       "      <td>13.59</td>\n",
       "      <td>12</td>\n",
       "      <td>12.91</td>\n",
       "      <td>9</td>\n",
       "      <td>7.82</td>\n",
       "    </tr>\n",
       "  </tbody>\n",
       "</table>\n",
       "</div>"
      ],
      "text/plain": [
       "     Y1  X2     Y2  X3     Y3  X4     Y4  X5    Y5\n",
       "0  1491  18   16.8  14  13.33  12  11.12   9  8.33\n",
       "1  1491  []     []  []     []  []     []  []    []\n",
       "2  2004  18  17.94  14  13.99  12  11.72   9  8.65\n",
       "3  1493  []     []  []     []  []     []  []    []\n",
       "4  1497  18     18  14  13.59  12  12.91   9  7.82"
      ]
     },
     "execution_count": 50,
     "metadata": {},
     "output_type": "execute_result"
    }
   ],
   "source": [
    "data.head(5)"
   ]
  },
  {
   "cell_type": "markdown",
   "id": "7b376c8b-e422-48a0-a966-eca0b9c5182a",
   "metadata": {},
   "source": [
    "#### we can see that the columns (instead of Y1) is String type.\n",
    "#### in addition, there are missing values that represented by '[]' , which located in full row\n",
    "#### so we will clean our data from missing values"
   ]
  },
  {
   "cell_type": "markdown",
   "id": "5d71ad30-b19c-451e-b1e5-bec754836180",
   "metadata": {},
   "source": [
    "# Visualization and Explanation"
   ]
  },
  {
   "cell_type": "code",
   "execution_count": 51,
   "id": "e9f1a6e4",
   "metadata": {},
   "outputs": [],
   "source": [
    "# data =pd.read_csv('factory_test_data.csv')\n",
    "file_path = 'C:/Users/user/Downloads/Assignment/factory_test_data.csv'\n",
    "data = pd.read_csv(file_path)\n",
    "data= data.applymap(lambda x: pd.to_numeric(x, errors='coerce'))\n",
    "data = data.dropna()"
   ]
  },
  {
   "cell_type": "code",
   "execution_count": 52,
   "id": "5000bfce-29cb-48f7-bd57-62400e73310c",
   "metadata": {},
   "outputs": [
    {
     "data": {
      "image/png": "[encoded data removed]",
      "text/plain": [
       "<Figure size 640x480 with 1 Axes>"
      ]
     },
     "metadata": {},
     "output_type": "display_data"
    }
   ],
   "source": [
    "columns=[ 'Y2', 'Y3', 'Y4', 'Y5']\n",
    "\n",
    "\n",
    "fig, ax = plt.subplots()\n",
    "\n",
    "# Add some random \"jitter\" to the x-axis\n",
    "x = np.random.normal(1, 0.04, size=len(data[columns]))\n",
    "\n",
    "# Plot a strip plot for each column\n",
    "for i, column in enumerate(columns):\n",
    "    if 'Y' in column and 'Y1' not in column:\n",
    "        ax.plot(x + i, data[column], 'r.', alpha=0.9)\n",
    "\n",
    "ax.set_xticks(range(1, len(columns) + 1))\n",
    "ax.set_xticklabels(columns)\n",
    "\n",
    "plt.show()"
   ]
  },
  {
   "cell_type": "markdown",
   "id": "2348118e-65a2-49d0-91eb-2cb4c09c92cd",
   "metadata": {},
   "source": [
    "\r",
    "### \n",
    "In this context, we observe that the data is distributed unevenly, with Y5 showing a more concentrated pattern, while Y2 displays a scattered distribution. To address this issue, we aim to normalize the data to ensure that the values in one variable do not significantly influence or overshadow the values in another variable.\r\n",
    "\r\n",
    "\r\n",
    "\r\n",
    "\r\n"
   ]
  },
  {
   "cell_type": "code",
   "execution_count": 53,
   "id": "cc6f3039-e570-4b30-8535-cc580dec4ddc",
   "metadata": {},
   "outputs": [
    {
     "data": {
      "image/png": "[encoded data removed]",
      "text/plain": [
       "<Figure size 640x480 with 1 Axes>"
      ]
     },
     "metadata": {},
     "output_type": "display_data"
    }
   ],
   "source": [
    "columns=[ 'Y1']\n",
    "\n",
    "\n",
    "fig, ax = plt.subplots()\n",
    "\n",
    "# Add some random \"jitter\" to the x-axis\n",
    "x = np.random.normal(1, 0.04, size=len(data[columns]))\n",
    "\n",
    "# Plot a strip plot for each column\n",
    "for i, column in enumerate(columns):\n",
    "    if 'Y1'  in column:\n",
    "        ax.plot(x + i, data[column], 'r.', alpha=0.9)\n",
    "\n",
    "ax.set_xticks(range(1, len(columns) + 1))\n",
    "ax.set_xticklabels(columns)\n",
    "\n",
    "plt.show()"
   ]
  },
  {
   "cell_type": "markdown",
   "id": "52f5fd5e-149d-4523-90f9-482367f75683",
   "metadata": {},
   "source": [
    "### Based on our observation, it is evident that we should remove the row where Y1 is equal to 2004, as it has a considerable impact on the data.\r\n",
    "\r\n",
    "\r\n",
    "\r\n",
    "\r\n"
   ]
  },
  {
   "cell_type": "markdown",
   "id": "a7499030",
   "metadata": {},
   "source": [
    "# Preprocessing\n",
    "#### 1. set all type to numeric and removing nunmumeric\n",
    "#### 2. removing outlayer data\n",
    "#### 3. normalize data"
   ]
  },
  {
   "cell_type": "markdown",
   "id": "105f2820-f02b-45dd-a012-b347d1296b6d",
   "metadata": {},
   "source": [
    "#### Upon observation, I identified a device with a Y1 value of 2004, prompting me to make the decision to exclude it from the dataset.\r\n",
    "\r\n",
    "\r\n",
    "\r\n",
    "\r\n"
   ]
  },
  {
   "cell_type": "code",
   "execution_count": 54,
   "id": "373d632b-f03b-42fd-9b5b-9bf4f7c5436d",
   "metadata": {},
   "outputs": [
    {
     "data": {
      "text/html": [
       "<div>\n",
       "<style scoped>\n",
       "    .dataframe tbody tr th:only-of-type {\n",
       "        vertical-align: middle;\n",
       "    }\n",
       "\n",
       "    .dataframe tbody tr th {\n",
       "        vertical-align: top;\n",
       "    }\n",
       "\n",
       "    .dataframe thead th {\n",
       "        text-align: right;\n",
       "    }\n",
       "</style>\n",
       "<table border=\"1\" class=\"dataframe\">\n",
       "  <thead>\n",
       "    <tr style=\"text-align: right;\">\n",
       "      <th></th>\n",
       "      <th>Y1</th>\n",
       "      <th>X2</th>\n",
       "      <th>Y2</th>\n",
       "      <th>X3</th>\n",
       "      <th>Y3</th>\n",
       "      <th>X4</th>\n",
       "      <th>Y4</th>\n",
       "      <th>X5</th>\n",
       "      <th>Y5</th>\n",
       "    </tr>\n",
       "  </thead>\n",
       "  <tbody>\n",
       "    <tr>\n",
       "      <th>count</th>\n",
       "      <td>46.000000</td>\n",
       "      <td>46.0</td>\n",
       "      <td>46.000000</td>\n",
       "      <td>46.0</td>\n",
       "      <td>46.000000</td>\n",
       "      <td>46.0</td>\n",
       "      <td>46.000000</td>\n",
       "      <td>46.0</td>\n",
       "      <td>46.000000</td>\n",
       "    </tr>\n",
       "    <tr>\n",
       "      <th>mean</th>\n",
       "      <td>1495.130435</td>\n",
       "      <td>18.0</td>\n",
       "      <td>17.414783</td>\n",
       "      <td>14.0</td>\n",
       "      <td>13.440652</td>\n",
       "      <td>12.0</td>\n",
       "      <td>11.672826</td>\n",
       "      <td>9.0</td>\n",
       "      <td>8.339783</td>\n",
       "    </tr>\n",
       "    <tr>\n",
       "      <th>std</th>\n",
       "      <td>4.063981</td>\n",
       "      <td>0.0</td>\n",
       "      <td>4.322280</td>\n",
       "      <td>0.0</td>\n",
       "      <td>0.095322</td>\n",
       "      <td>0.0</td>\n",
       "      <td>1.240284</td>\n",
       "      <td>0.0</td>\n",
       "      <td>0.295556</td>\n",
       "    </tr>\n",
       "    <tr>\n",
       "      <th>min</th>\n",
       "      <td>1487.000000</td>\n",
       "      <td>18.0</td>\n",
       "      <td>7.870000</td>\n",
       "      <td>14.0</td>\n",
       "      <td>13.190000</td>\n",
       "      <td>12.0</td>\n",
       "      <td>9.100000</td>\n",
       "      <td>9.0</td>\n",
       "      <td>7.810000</td>\n",
       "    </tr>\n",
       "    <tr>\n",
       "      <th>25%</th>\n",
       "      <td>1493.000000</td>\n",
       "      <td>18.0</td>\n",
       "      <td>14.647500</td>\n",
       "      <td>14.0</td>\n",
       "      <td>13.392500</td>\n",
       "      <td>12.0</td>\n",
       "      <td>10.917500</td>\n",
       "      <td>9.0</td>\n",
       "      <td>8.192500</td>\n",
       "    </tr>\n",
       "    <tr>\n",
       "      <th>50%</th>\n",
       "      <td>1495.000000</td>\n",
       "      <td>18.0</td>\n",
       "      <td>18.075000</td>\n",
       "      <td>14.0</td>\n",
       "      <td>13.445000</td>\n",
       "      <td>12.0</td>\n",
       "      <td>11.495000</td>\n",
       "      <td>9.0</td>\n",
       "      <td>8.315000</td>\n",
       "    </tr>\n",
       "    <tr>\n",
       "      <th>75%</th>\n",
       "      <td>1497.000000</td>\n",
       "      <td>18.0</td>\n",
       "      <td>20.260000</td>\n",
       "      <td>14.0</td>\n",
       "      <td>13.517500</td>\n",
       "      <td>12.0</td>\n",
       "      <td>12.357500</td>\n",
       "      <td>9.0</td>\n",
       "      <td>8.517500</td>\n",
       "    </tr>\n",
       "    <tr>\n",
       "      <th>max</th>\n",
       "      <td>1510.000000</td>\n",
       "      <td>18.0</td>\n",
       "      <td>25.260000</td>\n",
       "      <td>14.0</td>\n",
       "      <td>13.660000</td>\n",
       "      <td>12.0</td>\n",
       "      <td>14.560000</td>\n",
       "      <td>9.0</td>\n",
       "      <td>9.160000</td>\n",
       "    </tr>\n",
       "  </tbody>\n",
       "</table>\n",
       "</div>"
      ],
      "text/plain": [
       "                Y1    X2         Y2    X3         Y3    X4         Y4    X5  \\\n",
       "count    46.000000  46.0  46.000000  46.0  46.000000  46.0  46.000000  46.0   \n",
       "mean   1495.130435  18.0  17.414783  14.0  13.440652  12.0  11.672826   9.0   \n",
       "std       4.063981   0.0   4.322280   0.0   0.095322   0.0   1.240284   0.0   \n",
       "min    1487.000000  18.0   7.870000  14.0  13.190000  12.0   9.100000   9.0   \n",
       "25%    1493.000000  18.0  14.647500  14.0  13.392500  12.0  10.917500   9.0   \n",
       "50%    1495.000000  18.0  18.075000  14.0  13.445000  12.0  11.495000   9.0   \n",
       "75%    1497.000000  18.0  20.260000  14.0  13.517500  12.0  12.357500   9.0   \n",
       "max    1510.000000  18.0  25.260000  14.0  13.660000  12.0  14.560000   9.0   \n",
       "\n",
       "              Y5  \n",
       "count  46.000000  \n",
       "mean    8.339783  \n",
       "std     0.295556  \n",
       "min     7.810000  \n",
       "25%     8.192500  \n",
       "50%     8.315000  \n",
       "75%     8.517500  \n",
       "max     9.160000  "
      ]
     },
     "execution_count": 54,
     "metadata": {},
     "output_type": "execute_result"
    }
   ],
   "source": [
    "data= data[data['Y1']!=2004]\n",
    "data.describe(include='all')"
   ]
  },
  {
   "cell_type": "markdown",
   "id": "b825eb08-dd29-4e2c-9a06-d4fe4a3ba0ca",
   "metadata": {},
   "source": [
    "### Data normalization:"
   ]
  },
  {
   "cell_type": "code",
   "execution_count": 55,
   "id": "3909a3e0-7f12-41ca-89bb-d7da585c22c3",
   "metadata": {},
   "outputs": [],
   "source": [
    "normalize_data={}\n",
    "for column_to_normalize in data.columns :\n",
    "    if 'Y' in column_to_normalize :\n",
    "        min_val_data = data[column_to_normalize].min()\n",
    "        max_val_data = data[column_to_normalize].max()\n",
    "        normalize_data[column_to_normalize]={'min':min_val_data , 'max':max_val_data}\n",
    "        data[column_to_normalize] = (data[column_to_normalize] - min_val_data) / (max_val_data - min_val_data)"
   ]
  },
  {
   "cell_type": "code",
   "execution_count": 56,
   "id": "cf4a4ca1",
   "metadata": {},
   "outputs": [
    {
     "data": {
      "text/html": [
       "<div>\n",
       "<style scoped>\n",
       "    .dataframe tbody tr th:only-of-type {\n",
       "        vertical-align: middle;\n",
       "    }\n",
       "\n",
       "    .dataframe tbody tr th {\n",
       "        vertical-align: top;\n",
       "    }\n",
       "\n",
       "    .dataframe thead th {\n",
       "        text-align: right;\n",
       "    }\n",
       "</style>\n",
       "<table border=\"1\" class=\"dataframe\">\n",
       "  <thead>\n",
       "    <tr style=\"text-align: right;\">\n",
       "      <th></th>\n",
       "      <th>Y1</th>\n",
       "      <th>X2</th>\n",
       "      <th>Y2</th>\n",
       "      <th>X3</th>\n",
       "      <th>Y3</th>\n",
       "      <th>X4</th>\n",
       "      <th>Y4</th>\n",
       "      <th>X5</th>\n",
       "      <th>Y5</th>\n",
       "    </tr>\n",
       "  </thead>\n",
       "  <tbody>\n",
       "    <tr>\n",
       "      <th>count</th>\n",
       "      <td>46.000000</td>\n",
       "      <td>46.0</td>\n",
       "      <td>46.000000</td>\n",
       "      <td>46.0</td>\n",
       "      <td>46.000000</td>\n",
       "      <td>46.0</td>\n",
       "      <td>46.000000</td>\n",
       "      <td>46.0</td>\n",
       "      <td>46.000000</td>\n",
       "    </tr>\n",
       "    <tr>\n",
       "      <th>mean</th>\n",
       "      <td>0.353497</td>\n",
       "      <td>18.0</td>\n",
       "      <td>0.548866</td>\n",
       "      <td>14.0</td>\n",
       "      <td>0.533302</td>\n",
       "      <td>12.0</td>\n",
       "      <td>0.471214</td>\n",
       "      <td>9.0</td>\n",
       "      <td>0.392432</td>\n",
       "    </tr>\n",
       "    <tr>\n",
       "      <th>std</th>\n",
       "      <td>0.176695</td>\n",
       "      <td>0.0</td>\n",
       "      <td>0.248550</td>\n",
       "      <td>0.0</td>\n",
       "      <td>0.202812</td>\n",
       "      <td>0.0</td>\n",
       "      <td>0.227158</td>\n",
       "      <td>0.0</td>\n",
       "      <td>0.218930</td>\n",
       "    </tr>\n",
       "    <tr>\n",
       "      <th>min</th>\n",
       "      <td>0.000000</td>\n",
       "      <td>18.0</td>\n",
       "      <td>0.000000</td>\n",
       "      <td>14.0</td>\n",
       "      <td>0.000000</td>\n",
       "      <td>12.0</td>\n",
       "      <td>0.000000</td>\n",
       "      <td>9.0</td>\n",
       "      <td>0.000000</td>\n",
       "    </tr>\n",
       "    <tr>\n",
       "      <th>25%</th>\n",
       "      <td>0.260870</td>\n",
       "      <td>18.0</td>\n",
       "      <td>0.389735</td>\n",
       "      <td>14.0</td>\n",
       "      <td>0.430851</td>\n",
       "      <td>12.0</td>\n",
       "      <td>0.332875</td>\n",
       "      <td>9.0</td>\n",
       "      <td>0.283333</td>\n",
       "    </tr>\n",
       "    <tr>\n",
       "      <th>50%</th>\n",
       "      <td>0.347826</td>\n",
       "      <td>18.0</td>\n",
       "      <td>0.586832</td>\n",
       "      <td>14.0</td>\n",
       "      <td>0.542553</td>\n",
       "      <td>12.0</td>\n",
       "      <td>0.438645</td>\n",
       "      <td>9.0</td>\n",
       "      <td>0.374074</td>\n",
       "    </tr>\n",
       "    <tr>\n",
       "      <th>75%</th>\n",
       "      <td>0.434783</td>\n",
       "      <td>18.0</td>\n",
       "      <td>0.712478</td>\n",
       "      <td>14.0</td>\n",
       "      <td>0.696809</td>\n",
       "      <td>12.0</td>\n",
       "      <td>0.596612</td>\n",
       "      <td>9.0</td>\n",
       "      <td>0.524074</td>\n",
       "    </tr>\n",
       "    <tr>\n",
       "      <th>max</th>\n",
       "      <td>1.000000</td>\n",
       "      <td>18.0</td>\n",
       "      <td>1.000000</td>\n",
       "      <td>14.0</td>\n",
       "      <td>1.000000</td>\n",
       "      <td>12.0</td>\n",
       "      <td>1.000000</td>\n",
       "      <td>9.0</td>\n",
       "      <td>1.000000</td>\n",
       "    </tr>\n",
       "  </tbody>\n",
       "</table>\n",
       "</div>"
      ],
      "text/plain": [
       "              Y1    X2         Y2    X3         Y3    X4         Y4    X5  \\\n",
       "count  46.000000  46.0  46.000000  46.0  46.000000  46.0  46.000000  46.0   \n",
       "mean    0.353497  18.0   0.548866  14.0   0.533302  12.0   0.471214   9.0   \n",
       "std     0.176695   0.0   0.248550   0.0   0.202812   0.0   0.227158   0.0   \n",
       "min     0.000000  18.0   0.000000  14.0   0.000000  12.0   0.000000   9.0   \n",
       "25%     0.260870  18.0   0.389735  14.0   0.430851  12.0   0.332875   9.0   \n",
       "50%     0.347826  18.0   0.586832  14.0   0.542553  12.0   0.438645   9.0   \n",
       "75%     0.434783  18.0   0.712478  14.0   0.696809  12.0   0.596612   9.0   \n",
       "max     1.000000  18.0   1.000000  14.0   1.000000  12.0   1.000000   9.0   \n",
       "\n",
       "              Y5  \n",
       "count  46.000000  \n",
       "mean    0.392432  \n",
       "std     0.218930  \n",
       "min     0.000000  \n",
       "25%     0.283333  \n",
       "50%     0.374074  \n",
       "75%     0.524074  \n",
       "max     1.000000  "
      ]
     },
     "execution_count": 56,
     "metadata": {},
     "output_type": "execute_result"
    }
   ],
   "source": [
    "data.describe(include='all')"
   ]
  },
  {
   "cell_type": "markdown",
   "id": "dc282d7e-5c0f-4abf-b1c9-e4bb425c0a74",
   "metadata": {},
   "source": [
    "# Data Exploring\n",
    "##### To rank new devices according to their likelihood of belonging to the sample group, we employ Mahalanobis distance calculation.\r\n",
    "\r\n",
    "\r\n",
    "\r\n",
    "\r\n"
   ]
  },
  {
   "cell_type": "code",
   "execution_count": 57,
   "id": "5bd7e999",
   "metadata": {},
   "outputs": [],
   "source": [
    "new_device = pd.read_csv('new_devices.csv')"
   ]
  },
  {
   "cell_type": "markdown",
   "id": "dadb37c2-f7bc-45a1-802d-1b017c623906",
   "metadata": {},
   "source": [
    "### normalize 'new_devic.csv' :"
   ]
  },
  {
   "cell_type": "code",
   "execution_count": 58,
   "id": "27d8c55c-6165-4269-93e0-c74513e17ace",
   "metadata": {},
   "outputs": [
    {
     "data": {
      "text/html": [
       "<div>\n",
       "<style scoped>\n",
       "    .dataframe tbody tr th:only-of-type {\n",
       "        vertical-align: middle;\n",
       "    }\n",
       "\n",
       "    .dataframe tbody tr th {\n",
       "        vertical-align: top;\n",
       "    }\n",
       "\n",
       "    .dataframe thead th {\n",
       "        text-align: right;\n",
       "    }\n",
       "</style>\n",
       "<table border=\"1\" class=\"dataframe\">\n",
       "  <thead>\n",
       "    <tr style=\"text-align: right;\">\n",
       "      <th></th>\n",
       "      <th>ID</th>\n",
       "      <th>Y1</th>\n",
       "      <th>X2</th>\n",
       "      <th>Y2</th>\n",
       "      <th>X3</th>\n",
       "      <th>Y3</th>\n",
       "      <th>X4</th>\n",
       "      <th>Y4</th>\n",
       "      <th>X5</th>\n",
       "      <th>Y5</th>\n",
       "    </tr>\n",
       "  </thead>\n",
       "  <tbody>\n",
       "    <tr>\n",
       "      <th>0</th>\n",
       "      <td>1</td>\n",
       "      <td>3.043478</td>\n",
       "      <td>18</td>\n",
       "      <td>0.476136</td>\n",
       "      <td>14</td>\n",
       "      <td>0.765957</td>\n",
       "      <td>12</td>\n",
       "      <td>0.399267</td>\n",
       "      <td>9</td>\n",
       "      <td>0.385185</td>\n",
       "    </tr>\n",
       "    <tr>\n",
       "      <th>1</th>\n",
       "      <td>2</td>\n",
       "      <td>0.434783</td>\n",
       "      <td>18</td>\n",
       "      <td>0.600345</td>\n",
       "      <td>14</td>\n",
       "      <td>0.531915</td>\n",
       "      <td>12</td>\n",
       "      <td>0.467033</td>\n",
       "      <td>9</td>\n",
       "      <td>0.392593</td>\n",
       "    </tr>\n",
       "    <tr>\n",
       "      <th>2</th>\n",
       "      <td>3</td>\n",
       "      <td>0.347826</td>\n",
       "      <td>18</td>\n",
       "      <td>0.552616</td>\n",
       "      <td>14</td>\n",
       "      <td>0.425532</td>\n",
       "      <td>12</td>\n",
       "      <td>0.443223</td>\n",
       "      <td>9</td>\n",
       "      <td>0.162963</td>\n",
       "    </tr>\n",
       "  </tbody>\n",
       "</table>\n",
       "</div>"
      ],
      "text/plain": [
       "   ID        Y1  X2        Y2  X3        Y3  X4        Y4  X5        Y5\n",
       "0   1  3.043478  18  0.476136  14  0.765957  12  0.399267   9  0.385185\n",
       "1   2  0.434783  18  0.600345  14  0.531915  12  0.467033   9  0.392593\n",
       "2   3  0.347826  18  0.552616  14  0.425532  12  0.443223   9  0.162963"
      ]
     },
     "execution_count": 58,
     "metadata": {},
     "output_type": "execute_result"
    }
   ],
   "source": [
    "for column_to_normalize in data.columns :\n",
    "    if 'Y' in column_to_normalize :\n",
    "        min_val_data= normalize_data[column_to_normalize]['min']\n",
    "        max_val_data=normalize_data[column_to_normalize]['max']\n",
    "        new_device[column_to_normalize] = (new_device[column_to_normalize] - min_val_data) / (max_val_data - min_val_data)\n",
    "new_device"
   ]
  },
  {
   "cell_type": "code",
   "execution_count": 59,
   "id": "08761809",
   "metadata": {},
   "outputs": [],
   "source": [
    "columns_to_include = ['Y1', 'Y2', 'Y3', 'Y4', 'Y5']\n",
    "vectors = data[columns_to_include].values.tolist()\n",
    "vectors = np.array(vectors)"
   ]
  },
  {
   "cell_type": "code",
   "execution_count": 60,
   "id": "ef94ee81",
   "metadata": {},
   "outputs": [],
   "source": [
    "mu = np.mean(vectors, axis=0)\n",
    "cov = np.cov(vectors.T)\n",
    "cov_inv = np.linalg.inv(cov)"
   ]
  },
  {
   "cell_type": "code",
   "execution_count": 61,
   "id": "061eb77e",
   "metadata": {},
   "outputs": [
    {
     "name": "stdout",
     "output_type": "stream",
     "text": [
      " device 0 dist:16.53620370562578\n",
      " device 1 dist:0.5552280025706704\n",
      " device 2 dist:1.2542914250437118\n"
     ]
    }
   ],
   "source": [
    "vectors_new_dev = new_device[columns_to_include].values.tolist()\n",
    "vectors_new_dev = np.array(vectors_new_dev)\n",
    "for i,new_dev in enumerate (vectors_new_dev):\n",
    "    diff = new_dev - mu\n",
    "    mahalanobis_dist = np.sqrt(np.dot(np.dot(diff.T, cov_inv), diff))\n",
    "    print(f' device {i} dist:{mahalanobis_dist}')"
   ]
  },
  {
   "cell_type": "markdown",
   "id": "a6e068dd-fa5c-4a0c-89e4-5fea577c54b1",
   "metadata": {},
   "source": [
    "#### Here we can see that device 1 will rank at 1st place, device 2 will rank 2nd, and device 0 will rank 3rd place."
   ]
  },
  {
   "cell_type": "markdown",
   "id": "0ea099ee",
   "metadata": {},
   "source": [
    "# Bonus\n",
    "### find threshold usingcross validation "
   ]
  },
  {
   "cell_type": "markdown",
   "id": "6b443e20-babe-4d5b-91e1-868f3cb02dfe",
   "metadata": {},
   "source": [
    "#### For each slide we will extract from the train set, and will use it for validation, then calculate the distance, and we will take the max distance and use it as threshold in order to evalute whether device failed or not."
   ]
  },
  {
   "cell_type": "code",
   "execution_count": 63,
   "id": "6761bc1f",
   "metadata": {},
   "outputs": [],
   "source": [
    "def create_distribution(data):\n",
    "    columns_to_include = ['Y1', 'Y2', 'Y3', 'Y4', 'Y5']\n",
    "    vectors = data[columns_to_include].values.tolist()\n",
    "    vectors = np.array(vectors)\n",
    "    mu = np.mean(vectors, axis=0)\n",
    "    cov = np.cov(vectors.T)\n",
    "    cov_inv = np.linalg.inv(cov)\n",
    "    return cov_inv\n",
    "def find_max_distance(cov_inv, test_data):\n",
    "    max_dist= None\n",
    "    test_data = test_data[columns_to_include].values.tolist()\n",
    "    test_data = np.array(test_data)\n",
    "    for dev in test_data:\n",
    "        diff = dev - mu\n",
    "        mahalanobis_dist = np.sqrt(np.dot(np.dot(diff.T, cov_inv), diff))\n",
    "        if max_dist == None:\n",
    "            max_dist = mahalanobis_dist\n",
    "        elif mahalanobis_dist > max_dist:\n",
    "            max_dist=mahalanobis_dist\n",
    "    return max_dist"
   ]
  },
  {
   "cell_type": "code",
   "execution_count": 64,
   "id": "b3dd3811",
   "metadata": {},
   "outputs": [
    {
     "data": {
      "text/plain": [
       "4.895779040158546"
      ]
     },
     "execution_count": 64,
     "metadata": {},
     "output_type": "execute_result"
    }
   ],
   "source": [
    "data = data.sample(frac=1)  #Randomly shuffle the data rows\n",
    "\n",
    "folds = np.array_split(data, len(data))\n",
    "max_list=[]\n",
    "for i in range(len(data)):\n",
    "    test_data = folds[i]\n",
    "    train_data = pd.concat(folds[:i] + folds[i+1:])\n",
    "    cov_inv=create_distribution(train_data)\n",
    "    max_list.append(find_max_distance(cov_inv,test_data))\n",
    "max(max_list)"
   ]
  },
  {
   "cell_type": "code",
   "execution_count": 65,
   "id": "a9c1fe42",
   "metadata": {},
   "outputs": [
    {
     "name": "stdout",
     "output_type": "stream",
     "text": [
      "threshold is 4.895779040158546\n",
      "Device 0 failed\n",
      "Device 1 pass\n",
      "Device 2 pass\n"
     ]
    }
   ],
   "source": [
    "threshold = max(max_list)\n",
    "print(f'threshold is {threshold}')\n",
    "\n",
    "#vectors_new_dev = new_dev[columns_to_include].values.tolist()\n",
    "#vectors_new_dev = np.array(vectors_new_dev)\n",
    "for i,new_dev in enumerate (vectors_new_dev):\n",
    "    diff = new_dev - mu\n",
    "    mahalanobis_dist = np.sqrt(np.dot(np.dot(diff.T, cov_inv), diff))\n",
    "    if mahalanobis_dist>threshold:\n",
    "        print(f'Device {i} failed')\n",
    "    else:\n",
    "        print(f'Device {i} pass')\n",
    "    \n",
    "\n"
   ]
  }
 ],
 "metadata": {
  "kernelspec": {
   "display_name": "Python 3 (ipykernel)",
   "language": "python",
   "name": "python3"
  },
  "language_info": {
   "codemirror_mode": {
    "name": "ipython",
    "version": 3
   },
   "file_extension": ".py",
   "mimetype": "text/x-python",
   "name": "python",
   "nbconvert_exporter": "python",
   "pygments_lexer": "ipython3",
   "version": "3.11.4"
  }
 },
 "nbformat": 4,
 "nbformat_minor": 5
}
